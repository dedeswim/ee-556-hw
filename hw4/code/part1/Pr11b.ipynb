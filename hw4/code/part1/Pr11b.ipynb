{
 "cells": [
  {
   "cell_type": "code",
   "execution_count": null,
   "metadata": {},
   "outputs": [],
   "source": [
    "import scipy.io\n",
    "import numpy as np\n",
    "from scipy.sparse import csr_matrix\n",
    "from projL1 import projL1\n",
    "from time import time"
   ]
  },
  {
   "cell_type": "code",
   "execution_count": null,
   "metadata": {},
   "outputs": [],
   "source": [
    "def projNuc(Z, kappa):\n",
    "    #PROJNUC This function implements the projection onto nuclear norm ball.\n",
    "    \n",
    "    # Implement projection operator here!\n",
    "    \n",
    "    return "
   ]
  },
  {
   "cell_type": "code",
   "execution_count": null,
   "metadata": {},
   "outputs": [],
   "source": [
    "data = scipy.io.loadmat('./dataset/ml-100k/ub_base')  # load 100k dataset\n",
    "\n",
    "Rating = data['Rating'].flatten()\n",
    "UserID = data['UserID'].flatten() - 1  # Python indexing starts from 0 whereas Matlab from 1\n",
    "MovID = data['MovID'].flatten() - 1    # Python indexing starts from 0 whereas Matlab from 1\n",
    "\n",
    "nM = np.amax(data['MovID'])\n",
    "nU = np.amax(data['UserID'])\n",
    "\n",
    "Z = csr_matrix((Rating, (MovID, UserID)),shape=(nM, nU),dtype=float).toarray()\n",
    "kappa = 5000\n",
    "\n",
    "tstart = time()\n",
    "Z_proj = projNuc(Z, kappa)\n",
    "elapsed = time() - tstart\n",
    "print('proj for 100k data takes {} sec'.format(elapsed))"
   ]
  },
  {
   "cell_type": "code",
   "execution_count": null,
   "metadata": {},
   "outputs": [],
   "source": [
    "# NOTE: This one can take few minutes!\n",
    "data = scipy.io.loadmat('./dataset/ml-1m/ml1m_base')  # load 1M dataset\n",
    "\n",
    "Rating = data['Rating'].flatten()\n",
    "UserID = data['UserID'].flatten() - 1  # Python indexing starts from 0 whereas Matlab from 1\n",
    "MovID = data['MovID'].flatten() - 1    # Python indexing starts from 0 whereas Matlab from 1\n",
    "\n",
    "nM = np.amax(data['MovID'])\n",
    "nU = np.amax(data['UserID'])\n",
    "\n",
    "Z = csr_matrix((Rating, (MovID, UserID)),shape=(nM, nU),dtype=float).toarray()\n",
    "kappa = 5000\n",
    "\n",
    "tstart = time()\n",
    "Z_proj = projNuc(Z, kappa)\n",
    "elapsed = time() - tstart\n",
    "print('proj for 1M data takes {} sec'.format(elapsed))"
   ]
  },
  {
   "cell_type": "code",
   "execution_count": null,
   "metadata": {},
   "outputs": [],
   "source": []
  }
 ],
 "metadata": {
  "anaconda-cloud": {},
  "kernelspec": {
   "display_name": "Python 3",
   "language": "python",
   "name": "python3"
  },
  "language_info": {
   "codemirror_mode": {
    "name": "ipython",
    "version": 3
   },
   "file_extension": ".py",
   "mimetype": "text/x-python",
   "name": "python",
   "nbconvert_exporter": "python",
   "pygments_lexer": "ipython3",
   "version": "3.7.4"
  }
 },
 "nbformat": 4,
 "nbformat_minor": 2
}
